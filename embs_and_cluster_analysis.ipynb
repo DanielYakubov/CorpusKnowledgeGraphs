{
 "cells": [
  {
   "cell_type": "code",
   "execution_count": 7,
   "id": "d060c31f",
   "metadata": {
    "scrolled": true
   },
   "outputs": [],
   "source": [
    "import jsonlines\n",
    "import logging\n",
    "import spacy\n",
    "import pandas as pd\n",
    "import multiprocessing\n",
    "from tqdm import tqdm\n",
    "\n",
    "from time import time\n",
    "from fastcoref import spacy_component  # needed to add_pipe"
   ]
  },
  {
   "cell_type": "markdown",
   "id": "5f9f08d0",
   "metadata": {},
   "source": [
    "### Preprocessing "
   ]
  },
  {
   "cell_type": "code",
   "execution_count": 48,
   "id": "2a1c903b",
   "metadata": {},
   "outputs": [],
   "source": [
    "# this is faulty, I shouldn't have stored the corpus as a list, turning it into a df\n",
    "posts = []\n",
    "with jsonlines.open('data/skateboard-city-news.jsonl') as reader:\n",
    "    for all_threads in reader:\n",
    "        for thread in all_threads:\n",
    "            # just want a test case for now\n",
    "            title = thread['title'].strip()\n",
    "            for post in thread['posts']:\n",
    "                posts.append(f\"The thread title is {title}. {post}\")\n",
    "df = pd.DataFrame(data=posts, columns=['text'])"
   ]
  },
  {
   "cell_type": "code",
   "execution_count": 49,
   "id": "97ecbb67",
   "metadata": {
    "scrolled": false
   },
   "outputs": [
    {
     "data": {
      "text/html": [
       "<div>\n",
       "<style scoped>\n",
       "    .dataframe tbody tr th:only-of-type {\n",
       "        vertical-align: middle;\n",
       "    }\n",
       "\n",
       "    .dataframe tbody tr th {\n",
       "        vertical-align: top;\n",
       "    }\n",
       "\n",
       "    .dataframe thead th {\n",
       "        text-align: right;\n",
       "    }\n",
       "</style>\n",
       "<table border=\"1\" class=\"dataframe\">\n",
       "  <thead>\n",
       "    <tr style=\"text-align: right;\">\n",
       "      <th></th>\n",
       "      <th>text</th>\n",
       "    </tr>\n",
       "  </thead>\n",
       "  <tbody>\n",
       "    <tr>\n",
       "      <th>0</th>\n",
       "      <td>The thread title is Dylan Rieder. I've only be...</td>\n",
       "    </tr>\n",
       "    <tr>\n",
       "      <th>1</th>\n",
       "      <td>The thread title is Dylan Rieder. I checked hi...</td>\n",
       "    </tr>\n",
       "    <tr>\n",
       "      <th>2</th>\n",
       "      <td>The thread title is Dylan Rieder. Sad to hear ...</td>\n",
       "    </tr>\n",
       "    <tr>\n",
       "      <th>3</th>\n",
       "      <td>The thread title is Dylan Rieder. I know losin...</td>\n",
       "    </tr>\n",
       "    <tr>\n",
       "      <th>4</th>\n",
       "      <td>The thread title is Intoducing Crumpet Skatebo...</td>\n",
       "    </tr>\n",
       "  </tbody>\n",
       "</table>\n",
       "</div>"
      ],
      "text/plain": [
       "                                                text\n",
       "0  The thread title is Dylan Rieder. I've only be...\n",
       "1  The thread title is Dylan Rieder. I checked hi...\n",
       "2  The thread title is Dylan Rieder. Sad to hear ...\n",
       "3  The thread title is Dylan Rieder. I know losin...\n",
       "4  The thread title is Intoducing Crumpet Skatebo..."
      ]
     },
     "execution_count": 49,
     "metadata": {},
     "output_type": "execute_result"
    }
   ],
   "source": [
    "df.head()"
   ]
  },
  {
   "cell_type": "markdown",
   "id": "57e4f8ed",
   "metadata": {},
   "source": [
    "Notice that the 3rd person pronouns below refer back to the thread title. This is the reason for the \"The thread title is x\" prefix being appended. It will be used later in coreference resolution"
   ]
  },
  {
   "cell_type": "code",
   "execution_count": 50,
   "id": "e5dea3c1",
   "metadata": {
    "scrolled": true
   },
   "outputs": [
    {
     "data": {
      "text/plain": [
       "\"The thread title is Dylan Rieder. I've only been skating for about two years, but I would always watch video parts because I just loved skateboarding and when his Gravis part came out, I was like holy shit. When he backside boardslid that rail into traffic, I flipped out. I checked instagram the other day and saw Gary Rogers' photo of him and I honestly got really emotional, Dylan was amazing and any time someone has to battle cancer, thats sad enough, but when they die from it, thats brutal. RIP Dylan.\""
      ]
     },
     "execution_count": 50,
     "metadata": {},
     "output_type": "execute_result"
    }
   ],
   "source": [
    "df['text'][0]"
   ]
  },
  {
   "cell_type": "code",
   "execution_count": 51,
   "id": "ac612f63",
   "metadata": {
    "scrolled": true
   },
   "outputs": [
    {
     "data": {
      "text/plain": [
       "<fastcoref.spacy_component.spacy_component.FastCorefResolver at 0x1541a28f0>"
      ]
     },
     "execution_count": 51,
     "metadata": {},
     "output_type": "execute_result"
    }
   ],
   "source": [
    "# setting up SP model with coref\n",
    "# fastcoref only relies on pos tagging\n",
    "logging.getLogger(\"fastcoref\").setLevel(logging.WARNING) # surpressing the logging, it is too much\n",
    "\n",
    "SP_MODEL = spacy.load('en_core_web_sm', exclude=[\"parser\", \"lemmatizer\", \"ner\", \"textcat\"])\n",
    "SP_MODEL.add_pipe(\n",
    "    \"fastcoref\",\n",
    ")"
   ]
  },
  {
   "cell_type": "code",
   "execution_count": 68,
   "id": "61f9c04d",
   "metadata": {},
   "outputs": [],
   "source": [
    "def get_corefs(texts):\n",
    "    # resolving coreferences\n",
    "    docs = SP_MODEL.pipe(\n",
    "        texts,\n",
    "        component_cfg={\"fastcoref\": {'resolve_text': True}},\n",
    "        batch_size=5000\n",
    "    )\n",
    "    try:\n",
    "        corefs_resolved_text = [doc._.resolved_text for doc in docs]\n",
    "        return corefs_resolved_text\n",
    "    except:\n",
    "        return texts"
   ]
  },
  {
   "cell_type": "markdown",
   "id": "74073540",
   "metadata": {},
   "source": [
    "Now we want to resolve all the coreferences in the df"
   ]
  },
  {
   "cell_type": "code",
   "execution_count": 69,
   "id": "0c8359fc",
   "metadata": {},
   "outputs": [
    {
     "data": {
      "application/vnd.jupyter.widget-view+json": {
       "model_id": "",
       "version_major": 2,
       "version_minor": 0
      },
      "text/plain": [
       "Map:   0%|          | 0/5000 [00:00<?, ? examples/s]"
      ]
     },
     "metadata": {},
     "output_type": "display_data"
    },
    {
     "data": {
      "application/vnd.jupyter.widget-view+json": {
       "model_id": "00f1db11e81f450db739c4fb86d4dce0",
       "version_major": 2,
       "version_minor": 0
      },
      "text/plain": [
       "Inference:   0%|          | 0/5000 [00:00<?, ?it/s]"
      ]
     },
     "metadata": {},
     "output_type": "display_data"
    },
    {
     "data": {
      "application/vnd.jupyter.widget-view+json": {
       "model_id": "",
       "version_major": 2,
       "version_minor": 0
      },
      "text/plain": [
       "Map:   0%|          | 0/5000 [00:00<?, ? examples/s]"
      ]
     },
     "metadata": {},
     "output_type": "display_data"
    },
    {
     "data": {
      "application/vnd.jupyter.widget-view+json": {
       "model_id": "eeff2344359a47658ea2ada09c5e7271",
       "version_major": 2,
       "version_minor": 0
      },
      "text/plain": [
       "Inference:   0%|          | 0/5000 [00:00<?, ?it/s]"
      ]
     },
     "metadata": {},
     "output_type": "display_data"
    },
    {
     "data": {
      "application/vnd.jupyter.widget-view+json": {
       "model_id": "",
       "version_major": 2,
       "version_minor": 0
      },
      "text/plain": [
       "Map:   0%|          | 0/5000 [00:00<?, ? examples/s]"
      ]
     },
     "metadata": {},
     "output_type": "display_data"
    },
    {
     "data": {
      "application/vnd.jupyter.widget-view+json": {
       "model_id": "f08aa5eaad744ee0b2aba72ab10b8b37",
       "version_major": 2,
       "version_minor": 0
      },
      "text/plain": [
       "Inference:   0%|          | 0/5000 [00:00<?, ?it/s]"
      ]
     },
     "metadata": {},
     "output_type": "display_data"
    },
    {
     "data": {
      "application/vnd.jupyter.widget-view+json": {
       "model_id": "",
       "version_major": 2,
       "version_minor": 0
      },
      "text/plain": [
       "Map:   0%|          | 0/5000 [00:00<?, ? examples/s]"
      ]
     },
     "metadata": {},
     "output_type": "display_data"
    },
    {
     "data": {
      "application/vnd.jupyter.widget-view+json": {
       "model_id": "9112c1cf89d743428c1326fd20144f1e",
       "version_major": 2,
       "version_minor": 0
      },
      "text/plain": [
       "Inference:   0%|          | 0/5000 [00:00<?, ?it/s]"
      ]
     },
     "metadata": {},
     "output_type": "display_data"
    },
    {
     "data": {
      "application/vnd.jupyter.widget-view+json": {
       "model_id": "",
       "version_major": 2,
       "version_minor": 0
      },
      "text/plain": [
       "Map:   0%|          | 0/5000 [00:00<?, ? examples/s]"
      ]
     },
     "metadata": {},
     "output_type": "display_data"
    },
    {
     "data": {
      "application/vnd.jupyter.widget-view+json": {
       "model_id": "abd2d8fdc6d7458d9147221247365c3d",
       "version_major": 2,
       "version_minor": 0
      },
      "text/plain": [
       "Inference:   0%|          | 0/5000 [00:00<?, ?it/s]"
      ]
     },
     "metadata": {},
     "output_type": "display_data"
    },
    {
     "data": {
      "application/vnd.jupyter.widget-view+json": {
       "model_id": "",
       "version_major": 2,
       "version_minor": 0
      },
      "text/plain": [
       "Map:   0%|          | 0/5000 [00:00<?, ? examples/s]"
      ]
     },
     "metadata": {},
     "output_type": "display_data"
    },
    {
     "data": {
      "application/vnd.jupyter.widget-view+json": {
       "model_id": "b54e28f11adc4df1a309959adbae0f7a",
       "version_major": 2,
       "version_minor": 0
      },
      "text/plain": [
       "Inference:   0%|          | 0/5000 [00:00<?, ?it/s]"
      ]
     },
     "metadata": {},
     "output_type": "display_data"
    },
    {
     "data": {
      "application/vnd.jupyter.widget-view+json": {
       "model_id": "",
       "version_major": 2,
       "version_minor": 0
      },
      "text/plain": [
       "Map:   0%|          | 0/5000 [00:00<?, ? examples/s]"
      ]
     },
     "metadata": {},
     "output_type": "display_data"
    },
    {
     "data": {
      "application/vnd.jupyter.widget-view+json": {
       "model_id": "a9ba62cacf324e37beba365d74b654fc",
       "version_major": 2,
       "version_minor": 0
      },
      "text/plain": [
       "Inference:   0%|          | 0/5000 [00:00<?, ?it/s]"
      ]
     },
     "metadata": {},
     "output_type": "display_data"
    }
   ],
   "source": [
    "# this takes a while\n",
    "df['text'] = get_corefs(df['text'])"
   ]
  },
  {
   "cell_type": "code",
   "execution_count": 70,
   "id": "e11febcf",
   "metadata": {
    "scrolled": true
   },
   "outputs": [
    {
     "data": {
      "text/plain": [
       "\"The thread title is Dylan Rieder. I've only been skating for about two years, but I would always watch video parts because I just loved skateboarding and when his Gravis part came out, I was like holy shit. When he backside boardslid that rail into traffic, I flipped out. I checked instagram the other day and saw Gary Rogers' photo of him and I honestly got really emotional, Dylan was amazing and any time someone has to battle cancer, thats sad enough, but when they die from it, thats brutal. RIP Dylan.\""
      ]
     },
     "execution_count": 70,
     "metadata": {},
     "output_type": "execute_result"
    }
   ],
   "source": [
    "df['text'][0]"
   ]
  },
  {
   "cell_type": "code",
   "execution_count": 75,
   "id": "9299418d",
   "metadata": {},
   "outputs": [
    {
     "data": {
      "text/plain": [
       "'The thread title is Shogo Kubo dead at 54.. saw this the other day. rip Shogo Kubo'"
      ]
     },
     "execution_count": 75,
     "metadata": {},
     "output_type": "execute_result"
    }
   ],
   "source": [
    "df['text'][1340]"
   ]
  },
  {
   "cell_type": "code",
   "execution_count": 76,
   "id": "f5b1e120",
   "metadata": {},
   "outputs": [],
   "source": [
    "### Because the coref resolution takes so long I want to save the data after\n",
    "df.to_csv('coreffed_df.csv')"
   ]
  },
  {
   "cell_type": "markdown",
   "id": "de5c0c58",
   "metadata": {},
   "source": [
    "### A little more preprocessing, less time intensive"
   ]
  },
  {
   "cell_type": "code",
   "execution_count": 8,
   "id": "aecaef01",
   "metadata": {},
   "outputs": [],
   "source": [
    "# A lot of this borrows from \n",
    "# https://www.kaggle.com/code/pierremegret/gensim-word2vec-tutorial"
   ]
  },
  {
   "cell_type": "code",
   "execution_count": 9,
   "id": "9b204b92",
   "metadata": {},
   "outputs": [],
   "source": [
    "df = pd.read_csv('data/coreffed_df.csv')"
   ]
  },
  {
   "cell_type": "code",
   "execution_count": 10,
   "id": "a2b2b35b",
   "metadata": {
    "scrolled": false
   },
   "outputs": [
    {
     "data": {
      "text/html": [
       "<div>\n",
       "<style scoped>\n",
       "    .dataframe tbody tr th:only-of-type {\n",
       "        vertical-align: middle;\n",
       "    }\n",
       "\n",
       "    .dataframe tbody tr th {\n",
       "        vertical-align: top;\n",
       "    }\n",
       "\n",
       "    .dataframe thead th {\n",
       "        text-align: right;\n",
       "    }\n",
       "</style>\n",
       "<table border=\"1\" class=\"dataframe\">\n",
       "  <thead>\n",
       "    <tr style=\"text-align: right;\">\n",
       "      <th></th>\n",
       "      <th>Unnamed: 0</th>\n",
       "      <th>text</th>\n",
       "    </tr>\n",
       "  </thead>\n",
       "  <tbody>\n",
       "    <tr>\n",
       "      <th>0</th>\n",
       "      <td>0</td>\n",
       "      <td>The thread title is Dylan Rieder. I've only be...</td>\n",
       "    </tr>\n",
       "    <tr>\n",
       "      <th>1</th>\n",
       "      <td>1</td>\n",
       "      <td>The thread title is Dylan Rieder. I checked hi...</td>\n",
       "    </tr>\n",
       "    <tr>\n",
       "      <th>2</th>\n",
       "      <td>2</td>\n",
       "      <td>The thread title is Dylan Rieder. Sad to hear ...</td>\n",
       "    </tr>\n",
       "    <tr>\n",
       "      <th>3</th>\n",
       "      <td>3</td>\n",
       "      <td>The thread title is Dylan Rieder. I know losin...</td>\n",
       "    </tr>\n",
       "    <tr>\n",
       "      <th>4</th>\n",
       "      <td>4</td>\n",
       "      <td>The thread title is Intoducing Crumpet Skatebo...</td>\n",
       "    </tr>\n",
       "    <tr>\n",
       "      <th>5</th>\n",
       "      <td>5</td>\n",
       "      <td>The thread title is Intoducing Crumpet Skatebo...</td>\n",
       "    </tr>\n",
       "    <tr>\n",
       "      <th>6</th>\n",
       "      <td>6</td>\n",
       "      <td>The thread title is Intoducing Crumpet Skatebo...</td>\n",
       "    </tr>\n",
       "    <tr>\n",
       "      <th>7</th>\n",
       "      <td>7</td>\n",
       "      <td>The thread title is Intoducing Crumpet Skatebo...</td>\n",
       "    </tr>\n",
       "    <tr>\n",
       "      <th>8</th>\n",
       "      <td>8</td>\n",
       "      <td>The thread title is Intoducing Crumpet Skatebo...</td>\n",
       "    </tr>\n",
       "    <tr>\n",
       "      <th>9</th>\n",
       "      <td>9</td>\n",
       "      <td>The thread title is Intoducing Crumpet Skatebo...</td>\n",
       "    </tr>\n",
       "  </tbody>\n",
       "</table>\n",
       "</div>"
      ],
      "text/plain": [
       "   Unnamed: 0                                               text\n",
       "0           0  The thread title is Dylan Rieder. I've only be...\n",
       "1           1  The thread title is Dylan Rieder. I checked hi...\n",
       "2           2  The thread title is Dylan Rieder. Sad to hear ...\n",
       "3           3  The thread title is Dylan Rieder. I know losin...\n",
       "4           4  The thread title is Intoducing Crumpet Skatebo...\n",
       "5           5  The thread title is Intoducing Crumpet Skatebo...\n",
       "6           6  The thread title is Intoducing Crumpet Skatebo...\n",
       "7           7  The thread title is Intoducing Crumpet Skatebo...\n",
       "8           8  The thread title is Intoducing Crumpet Skatebo...\n",
       "9           9  The thread title is Intoducing Crumpet Skatebo..."
      ]
     },
     "execution_count": 10,
     "metadata": {},
     "output_type": "execute_result"
    }
   ],
   "source": [
    "df.head(10) # quick sanity check"
   ]
  },
  {
   "cell_type": "code",
   "execution_count": 11,
   "id": "dede671e",
   "metadata": {},
   "outputs": [
    {
     "name": "stderr",
     "output_type": "stream",
     "text": [
      "/Users/danielyakubov/miniforge3/lib/python3.10/site-packages/spacy/language.py:1895: UserWarning: [W123] Argument disable with value ['ner'] is used instead of ['senter'] as specified in the config. Be aware that this might affect other components in your pipeline.\n",
      "  warnings.warn(\n"
     ]
    }
   ],
   "source": [
    "# don't need ner\n",
    "SP_MODEL2 = spacy.load('en_core_web_sm', disable=['ner'])"
   ]
  },
  {
   "cell_type": "code",
   "execution_count": 12,
   "id": "df3bd2b0",
   "metadata": {},
   "outputs": [],
   "source": [
    "def cleaning(doc):\n",
    "    # lemmatizes and removes stops\n",
    "    txt = [tok.lemma_ for tok in doc if not tok.is_stop]\n",
    "    if len(txt) > 2:\n",
    "        return ' '.join(txt)"
   ]
  },
  {
   "cell_type": "code",
   "execution_count": 13,
   "id": "d7aca573",
   "metadata": {},
   "outputs": [],
   "source": [
    "import re\n",
    "brief_cleaning_generator = (re.sub(\"[^A-Za-z']+\", ' ', str(text)).lower() for text in df['text'])"
   ]
  },
  {
   "cell_type": "code",
   "execution_count": 14,
   "id": "da46258f",
   "metadata": {},
   "outputs": [],
   "source": [
    "# cleaning everything (again)\n",
    "txt = [cleaning(SP_MODEL2(doc)) for doc in brief_cleaning_generator]"
   ]
  },
  {
   "cell_type": "markdown",
   "id": "e0a3794e",
   "metadata": {},
   "source": [
    "**The above takes some time**"
   ]
  },
  {
   "cell_type": "code",
   "execution_count": 15,
   "id": "3571bb6a",
   "metadata": {},
   "outputs": [],
   "source": [
    "from gensim.models.phrases import Phrases, Phraser"
   ]
  },
  {
   "cell_type": "code",
   "execution_count": 16,
   "id": "e1aadbe1",
   "metadata": {},
   "outputs": [],
   "source": [
    "# breaking into words\n",
    "# IMPORTANT, the [2:] is because the first two words for each sentence are 'thread title', which we want to remove\n",
    "sent_toks = [t.split()[2:] for t in txt if t]"
   ]
  },
  {
   "cell_type": "code",
   "execution_count": 17,
   "id": "6c8bec79",
   "metadata": {},
   "outputs": [
    {
     "data": {
      "text/plain": [
       "[['dylan',\n",
       "  'rieder',\n",
       "  'skate',\n",
       "  'year',\n",
       "  'watch',\n",
       "  'video',\n",
       "  'part',\n",
       "  'love',\n",
       "  'skateboard',\n",
       "  'gravis',\n",
       "  'come',\n",
       "  'like',\n",
       "  'holy',\n",
       "  'shit',\n",
       "  'backside',\n",
       "  'boardslid',\n",
       "  'rail',\n",
       "  'traffic',\n",
       "  'flip',\n",
       "  'check',\n",
       "  'instagram',\n",
       "  'day',\n",
       "  'see',\n",
       "  'gary',\n",
       "  'roger',\n",
       "  \"'\",\n",
       "  'photo',\n",
       "  'honestly',\n",
       "  'get',\n",
       "  'emotional',\n",
       "  'dylan',\n",
       "  'amazing',\n",
       "  'time',\n",
       "  'battle',\n",
       "  'cancer',\n",
       "  's',\n",
       "  'sad',\n",
       "  'die',\n",
       "  's',\n",
       "  'brutal',\n",
       "  'rip',\n",
       "  'dylan'],\n",
       " ['dylan',\n",
       "  'rieder',\n",
       "  'check',\n",
       "  'instagram',\n",
       "  'minute',\n",
       "  'sean',\n",
       "  'pablo',\n",
       "  'post',\n",
       "  'farewell',\n",
       "  'dylan',\n",
       "  'think',\n",
       "  'sean',\n",
       "  'play',\n",
       "  'think',\n",
       "  'dylan',\n",
       "  'year',\n",
       "  'know',\n",
       "  'leukemia',\n",
       "  'underrate',\n",
       "  'book',\n",
       "  'skater',\n",
       "  'know',\n",
       "  'care',\n",
       "  'girl',\n",
       "  'know',\n",
       "  'cute',\n",
       "  'handsome',\n",
       "  'steven',\n",
       "  'fernandez',\n",
       "  'fangirl',\n",
       "  'fuck',\n",
       "  'dylan',\n",
       "  'respectable',\n",
       "  'man',\n",
       "  'little',\n",
       "  'kid',\n",
       "  'shouting',\n",
       "  'run',\n",
       "  'get',\n",
       "  'girl',\n",
       "  'number'],\n",
       " ['dylan',\n",
       "  'rieder',\n",
       "  'sad',\n",
       "  'hear',\n",
       "  'thing',\n",
       "  'backreade',\n",
       "  'old',\n",
       "  'thread',\n",
       "  'make',\n",
       "  'emotional',\n",
       "  'remember',\n",
       "  'great',\n",
       "  'dylan',\n",
       "  'forget',\n",
       "  'heart',\n",
       "  'hawaii',\n",
       "  'remodel'],\n",
       " ['dylan',\n",
       "  'rieder',\n",
       "  'know',\n",
       "  'lose',\n",
       "  'cancer',\n",
       "  'easy',\n",
       "  'dylan',\n",
       "  'passing',\n",
       "  'terrible',\n",
       "  'skating',\n",
       "  'scene',\n",
       "  'contexto',\n",
       "  'rest',\n",
       "  'peace',\n",
       "  'dylan'],\n",
       " ['intoduce',\n",
       "  'crumpet',\n",
       "  'skateboard',\n",
       "  'come',\n",
       "  'soon',\n",
       "  'tell',\n",
       "  'think',\n",
       "  'draft',\n",
       "  'graphic',\n",
       "  'click',\n",
       "  'attach',\n",
       "  'jpeg',\n",
       "  'view',\n",
       "  'image',\n",
       "  'ride',\n",
       "  'crumpet',\n",
       "  'final',\n",
       "  'crumpet',\n",
       "  'pink',\n",
       "  'knocker',\n",
       "  'jpg']]"
      ]
     },
     "execution_count": 17,
     "metadata": {},
     "output_type": "execute_result"
    }
   ],
   "source": [
    "# quick check of sent_toks\n",
    "sent_toks[:5]"
   ]
  },
  {
   "cell_type": "code",
   "execution_count": 18,
   "id": "3fd22c3b",
   "metadata": {},
   "outputs": [
    {
     "name": "stderr",
     "output_type": "stream",
     "text": [
      "05/07/2023 12:01:16 - INFO - \t collecting all words and their counts\n",
      "05/07/2023 12:01:16 - INFO - \t PROGRESS: at sentence #0, processed 0 words and 0 word types\n",
      "05/07/2023 12:01:16 - INFO - \t PROGRESS: at sentence #25000, processed 431203 words and 199320 word types\n",
      "05/07/2023 12:01:16 - INFO - \t PROGRESS: at sentence #50000, processed 774200 words and 315199 word types\n",
      "05/07/2023 12:01:16 - INFO - \t collected 350727 token types (unigram + bigrams) from a corpus of 893216 words and 58183 sentences\n",
      "05/07/2023 12:01:16 - INFO - \t merged Phrases<350727 vocab, min_count=30, threshold=10.0, max_vocab_size=40000000>\n",
      "05/07/2023 12:01:16 - INFO - \t Phrases lifecycle event {'msg': 'built Phrases<350727 vocab, min_count=30, threshold=10.0, max_vocab_size=40000000> in 0.50s', 'datetime': '2023-05-07T12:01:16.989851', 'gensim': '4.3.1', 'python': '3.10.6 | packaged by conda-forge | (main, Aug 22 2022, 20:41:22) [Clang 13.0.1 ]', 'platform': 'macOS-12.4-arm64-i386-64bit', 'event': 'created'}\n"
     ]
    }
   ],
   "source": [
    "# getting phrases\n",
    "phrases = Phrases(sent_toks, min_count=30, progress_per=25000)"
   ]
  },
  {
   "cell_type": "code",
   "execution_count": 19,
   "id": "4a4e5603",
   "metadata": {
    "scrolled": false
   },
   "outputs": [
    {
     "name": "stderr",
     "output_type": "stream",
     "text": [
      "05/07/2023 12:01:16 - INFO - \t exporting phrases from Phrases<350727 vocab, min_count=30, threshold=10.0, max_vocab_size=40000000>\n",
      "05/07/2023 12:01:17 - INFO - \t FrozenPhrases lifecycle event {'msg': 'exported FrozenPhrases<717 phrases, min_count=30, threshold=10.0> from Phrases<350727 vocab, min_count=30, threshold=10.0, max_vocab_size=40000000> in 0.30s', 'datetime': '2023-05-07T12:01:17.294039', 'gensim': '4.3.1', 'python': '3.10.6 | packaged by conda-forge | (main, Aug 22 2022, 20:41:22) [Clang 13.0.1 ]', 'platform': 'macOS-12.4-arm64-i386-64bit', 'event': 'created'}\n"
     ]
    }
   ],
   "source": [
    "phrases_txt = Phraser(phrases)"
   ]
  },
  {
   "cell_type": "code",
   "execution_count": 20,
   "id": "641ada3e",
   "metadata": {},
   "outputs": [],
   "source": [
    "sent_toks_with_phrases = phrases_txt[sent_toks]"
   ]
  },
  {
   "cell_type": "code",
   "execution_count": 21,
   "id": "7940e3dc",
   "metadata": {},
   "outputs": [
    {
     "data": {
      "text/plain": [
       "<gensim.interfaces.TransformedCorpus at 0x2a7abe650>"
      ]
     },
     "execution_count": 21,
     "metadata": {},
     "output_type": "execute_result"
    }
   ],
   "source": [
    "sent_toks_with_phrases"
   ]
  },
  {
   "cell_type": "code",
   "execution_count": 22,
   "id": "3843a888",
   "metadata": {},
   "outputs": [
    {
     "data": {
      "text/plain": [
       "27134"
      ]
     },
     "execution_count": 22,
     "metadata": {},
     "output_type": "execute_result"
    }
   ],
   "source": [
    "# a sanity check\n",
    "from collections import defaultdict\n",
    "\n",
    "word_freq = defaultdict(int) # so default value would be 0\n",
    "for sent in sent_toks_with_phrases:\n",
    "    for i in sent:\n",
    "        word_freq[i] += 1\n",
    "len(word_freq)"
   ]
  },
  {
   "cell_type": "code",
   "execution_count": 23,
   "id": "4ac12dfd",
   "metadata": {},
   "outputs": [
    {
     "data": {
      "text/plain": [
       "4335"
      ]
     },
     "execution_count": 23,
     "metadata": {},
     "output_type": "execute_result"
    }
   ],
   "source": [
    "word_freq['skateboard']"
   ]
  },
  {
   "cell_type": "code",
   "execution_count": 24,
   "id": "560e718b",
   "metadata": {},
   "outputs": [
    {
     "data": {
      "text/plain": [
       "589"
      ]
     },
     "execution_count": 24,
     "metadata": {},
     "output_type": "execute_result"
    }
   ],
   "source": [
    "word_freq['kickflip']"
   ]
  },
  {
   "cell_type": "code",
   "execution_count": 25,
   "id": "85ddbdb6",
   "metadata": {},
   "outputs": [
    {
     "data": {
      "text/plain": [
       "142"
      ]
     },
     "execution_count": 25,
     "metadata": {},
     "output_type": "execute_result"
    }
   ],
   "source": [
    "word_freq['bigspin']"
   ]
  },
  {
   "cell_type": "markdown",
   "id": "d6df63aa",
   "metadata": {},
   "source": [
    "### Actual Model Training"
   ]
  },
  {
   "cell_type": "code",
   "execution_count": 26,
   "id": "eeeadcee",
   "metadata": {},
   "outputs": [],
   "source": [
    "import multiprocessing\n",
    "\n",
    "from gensim.models import Word2Vec"
   ]
  },
  {
   "cell_type": "code",
   "execution_count": 27,
   "id": "3a33389f",
   "metadata": {},
   "outputs": [],
   "source": [
    "cores = multiprocessing.cpu_count()"
   ]
  },
  {
   "cell_type": "code",
   "execution_count": 28,
   "id": "a4b8a882",
   "metadata": {},
   "outputs": [
    {
     "name": "stderr",
     "output_type": "stream",
     "text": [
      "05/07/2023 12:01:17 - INFO - \t Word2Vec lifecycle event {'params': 'Word2Vec<vocab=0, vector_size=100, alpha=0.025>', 'datetime': '2023-05-07T12:01:17.742954', 'gensim': '4.3.1', 'python': '3.10.6 | packaged by conda-forge | (main, Aug 22 2022, 20:41:22) [Clang 13.0.1 ]', 'platform': 'macOS-12.4-arm64-i386-64bit', 'event': 'created'}\n"
     ]
    }
   ],
   "source": [
    "w2v_model = Word2Vec(min_count=30,\n",
    "                    window=2,\n",
    "                    workers = cores - 1\n",
    "                    )"
   ]
  },
  {
   "cell_type": "code",
   "execution_count": 29,
   "id": "b1eee450",
   "metadata": {},
   "outputs": [],
   "source": [
    "# buidling a vocabulary for the w2v model"
   ]
  },
  {
   "cell_type": "code",
   "execution_count": 30,
   "id": "15e875f0",
   "metadata": {},
   "outputs": [
    {
     "name": "stderr",
     "output_type": "stream",
     "text": [
      "05/07/2023 12:01:17 - INFO - \t collecting all words and their counts\n",
      "05/07/2023 12:01:17 - INFO - \t PROGRESS: at sentence #0, processed 0 words, keeping 0 word types\n",
      "05/07/2023 12:01:17 - INFO - \t PROGRESS: at sentence #10000, processed 175509 words, keeping 11538 word types\n",
      "05/07/2023 12:01:17 - INFO - \t PROGRESS: at sentence #20000, processed 321031 words, keeping 15856 word types\n",
      "05/07/2023 12:01:17 - INFO - \t PROGRESS: at sentence #30000, processed 457312 words, keeping 19099 word types\n",
      "05/07/2023 12:01:18 - INFO - \t PROGRESS: at sentence #40000, processed 583556 words, keeping 22293 word types\n",
      "05/07/2023 12:01:18 - INFO - \t PROGRESS: at sentence #50000, processed 704766 words, keeping 24948 word types\n",
      "05/07/2023 12:01:18 - INFO - \t collected 27134 word types from a corpus of 812128 raw words and 58183 sentences\n",
      "05/07/2023 12:01:18 - INFO - \t Creating a fresh vocabulary\n",
      "05/07/2023 12:01:18 - INFO - \t Word2Vec lifecycle event {'msg': 'effective_min_count=30 retains 3340 unique words (12.31% of original 27134, drops 23794)', 'datetime': '2023-05-07T12:01:18.165216', 'gensim': '4.3.1', 'python': '3.10.6 | packaged by conda-forge | (main, Aug 22 2022, 20:41:22) [Clang 13.0.1 ]', 'platform': 'macOS-12.4-arm64-i386-64bit', 'event': 'prepare_vocab'}\n",
      "05/07/2023 12:01:18 - INFO - \t Word2Vec lifecycle event {'msg': 'effective_min_count=30 leaves 717137 word corpus (88.30% of original 812128, drops 94991)', 'datetime': '2023-05-07T12:01:18.165566', 'gensim': '4.3.1', 'python': '3.10.6 | packaged by conda-forge | (main, Aug 22 2022, 20:41:22) [Clang 13.0.1 ]', 'platform': 'macOS-12.4-arm64-i386-64bit', 'event': 'prepare_vocab'}\n",
      "05/07/2023 12:01:18 - INFO - \t deleting the raw counts dictionary of 27134 items\n",
      "05/07/2023 12:01:18 - INFO - \t sample=0.001 downsamples 44 most-common words\n",
      "05/07/2023 12:01:18 - INFO - \t Word2Vec lifecycle event {'msg': 'downsampling leaves estimated 632952.3176383568 word corpus (88.3%% of prior 717137)', 'datetime': '2023-05-07T12:01:18.173184', 'gensim': '4.3.1', 'python': '3.10.6 | packaged by conda-forge | (main, Aug 22 2022, 20:41:22) [Clang 13.0.1 ]', 'platform': 'macOS-12.4-arm64-i386-64bit', 'event': 'prepare_vocab'}\n",
      "05/07/2023 12:01:18 - INFO - \t estimated required memory for 3340 words and 100 dimensions: 4342000 bytes\n",
      "05/07/2023 12:01:18 - INFO - \t resetting layer weights\n",
      "05/07/2023 12:01:18 - INFO - \t Word2Vec lifecycle event {'update': False, 'trim_rule': 'None', 'datetime': '2023-05-07T12:01:18.187906', 'gensim': '4.3.1', 'python': '3.10.6 | packaged by conda-forge | (main, Aug 22 2022, 20:41:22) [Clang 13.0.1 ]', 'platform': 'macOS-12.4-arm64-i386-64bit', 'event': 'build_vocab'}\n"
     ]
    }
   ],
   "source": [
    "w2v_model.build_vocab(sent_toks_with_phrases, progress_per=10000)"
   ]
  },
  {
   "cell_type": "code",
   "execution_count": 31,
   "id": "2f84ca02",
   "metadata": {},
   "outputs": [
    {
     "name": "stderr",
     "output_type": "stream",
     "text": [
      "05/07/2023 12:01:18 - INFO - \t Word2Vec lifecycle event {'msg': 'training model with 7 workers on 3340 vocabulary and 100 features, using sg=0 hs=0 sample=0.001 negative=5 window=2 shrink_windows=True', 'datetime': '2023-05-07T12:01:18.190522', 'gensim': '4.3.1', 'python': '3.10.6 | packaged by conda-forge | (main, Aug 22 2022, 20:41:22) [Clang 13.0.1 ]', 'platform': 'macOS-12.4-arm64-i386-64bit', 'event': 'train'}\n",
      "05/07/2023 12:01:18 - INFO - \t EPOCH 0: training on 812128 raw words (632892 effective words) took 0.5s, 1320413 effective words/s\n",
      "05/07/2023 12:01:19 - INFO - \t EPOCH 1: training on 812128 raw words (633151 effective words) took 0.6s, 975507 effective words/s\n",
      "05/07/2023 12:01:19 - INFO - \t EPOCH 2: training on 812128 raw words (633063 effective words) took 0.5s, 1367870 effective words/s\n",
      "05/07/2023 12:01:20 - INFO - \t EPOCH 3: training on 812128 raw words (632869 effective words) took 0.5s, 1329178 effective words/s\n",
      "05/07/2023 12:01:20 - INFO - \t EPOCH 4: training on 812128 raw words (633021 effective words) took 0.5s, 1349966 effective words/s\n",
      "05/07/2023 12:01:21 - INFO - \t EPOCH 5: training on 812128 raw words (632876 effective words) took 0.6s, 1116582 effective words/s\n",
      "05/07/2023 12:01:21 - INFO - \t EPOCH 6: training on 812128 raw words (632937 effective words) took 0.3s, 1933554 effective words/s\n",
      "05/07/2023 12:01:22 - INFO - \t EPOCH 7: training on 812128 raw words (632969 effective words) took 0.5s, 1351252 effective words/s\n",
      "05/07/2023 12:01:22 - INFO - \t EPOCH 8: training on 812128 raw words (633272 effective words) took 0.5s, 1324001 effective words/s\n",
      "05/07/2023 12:01:23 - INFO - \t EPOCH 9: training on 812128 raw words (632933 effective words) took 0.5s, 1331036 effective words/s\n",
      "05/07/2023 12:01:24 - INFO - \t EPOCH 10: training on 812128 raw words (632917 effective words) took 0.6s, 1100977 effective words/s\n",
      "05/07/2023 12:01:24 - INFO - \t EPOCH 11: training on 812128 raw words (632916 effective words) took 0.5s, 1366165 effective words/s\n",
      "05/07/2023 12:01:24 - INFO - \t EPOCH 12: training on 812128 raw words (633332 effective words) took 0.5s, 1387732 effective words/s\n",
      "05/07/2023 12:01:25 - INFO - \t EPOCH 13: training on 812128 raw words (632697 effective words) took 0.5s, 1350054 effective words/s\n",
      "05/07/2023 12:01:26 - INFO - \t EPOCH 14: training on 812128 raw words (633131 effective words) took 0.6s, 1073409 effective words/s\n",
      "05/07/2023 12:01:26 - INFO - \t EPOCH 15: training on 812128 raw words (632938 effective words) took 0.5s, 1365071 effective words/s\n",
      "05/07/2023 12:01:27 - INFO - \t EPOCH 16: training on 812128 raw words (633000 effective words) took 0.5s, 1400208 effective words/s\n",
      "05/07/2023 12:01:27 - INFO - \t EPOCH 17: training on 812128 raw words (632903 effective words) took 0.5s, 1373148 effective words/s\n",
      "05/07/2023 12:01:28 - INFO - \t EPOCH 18: training on 812128 raw words (632958 effective words) took 0.6s, 1113032 effective words/s\n",
      "05/07/2023 12:01:28 - INFO - \t EPOCH 19: training on 812128 raw words (632857 effective words) took 0.5s, 1364393 effective words/s\n",
      "05/07/2023 12:01:29 - INFO - \t EPOCH 20: training on 812128 raw words (632964 effective words) took 0.4s, 1586782 effective words/s\n",
      "05/07/2023 12:01:29 - INFO - \t EPOCH 21: training on 812128 raw words (633332 effective words) took 0.5s, 1330183 effective words/s\n",
      "05/07/2023 12:01:30 - INFO - \t EPOCH 22: training on 812128 raw words (632927 effective words) took 0.6s, 1102331 effective words/s\n",
      "05/07/2023 12:01:30 - INFO - \t EPOCH 23: training on 812128 raw words (632786 effective words) took 0.5s, 1346820 effective words/s\n",
      "05/07/2023 12:01:31 - INFO - \t EPOCH 24: training on 812128 raw words (633004 effective words) took 0.5s, 1358856 effective words/s\n",
      "05/07/2023 12:01:31 - INFO - \t EPOCH 25: training on 812128 raw words (633315 effective words) took 0.6s, 1082580 effective words/s\n",
      "05/07/2023 12:01:32 - INFO - \t EPOCH 26: training on 812128 raw words (632805 effective words) took 0.5s, 1341820 effective words/s\n",
      "05/07/2023 12:01:32 - INFO - \t EPOCH 27: training on 812128 raw words (632963 effective words) took 0.5s, 1401109 effective words/s\n",
      "05/07/2023 12:01:33 - INFO - \t EPOCH 28: training on 812128 raw words (632916 effective words) took 0.5s, 1341669 effective words/s\n",
      "05/07/2023 12:01:33 - INFO - \t EPOCH 29: training on 812128 raw words (633402 effective words) took 0.6s, 1093417 effective words/s\n",
      "05/07/2023 12:01:33 - INFO - \t Word2Vec lifecycle event {'msg': 'training on 24363840 raw words (18990046 effective words) took 15.7s, 1208647 effective words/s', 'datetime': '2023-05-07T12:01:33.902461', 'gensim': '4.3.1', 'python': '3.10.6 | packaged by conda-forge | (main, Aug 22 2022, 20:41:22) [Clang 13.0.1 ]', 'platform': 'macOS-12.4-arm64-i386-64bit', 'event': 'train'}\n"
     ]
    },
    {
     "data": {
      "text/plain": [
       "(18990046, 24363840)"
      ]
     },
     "execution_count": 31,
     "metadata": {},
     "output_type": "execute_result"
    }
   ],
   "source": [
    "# actual model training\n",
    "w2v_model.train(sent_toks_with_phrases, total_examples=w2v_model.corpus_count, epochs=30, report_delay=1)"
   ]
  },
  {
   "cell_type": "code",
   "execution_count": 32,
   "id": "1a424db2",
   "metadata": {},
   "outputs": [
    {
     "name": "stderr",
     "output_type": "stream",
     "text": [
      "/var/folders/zc/g0w96sh55bq1w03tz36mmk940000gn/T/ipykernel_1448/2451417020.py:3: DeprecationWarning: Call to deprecated `init_sims` (Gensim 4.0.0 implemented internal optimizations that make calls to init_sims() unnecessary. init_sims() is now obsoleted and will be completely removed in future versions. See https://github.com/RaRe-Technologies/gensim/wiki/Migrating-from-Gensim-3.x-to-4).\n",
      "  w2v_model.init_sims(replace=True)\n",
      "05/07/2023 12:01:33 - WARNING - \t destructive init_sims(replace=True) deprecated & no longer required for space-efficiency\n"
     ]
    }
   ],
   "source": [
    "# just something to make inference faster with this model\n",
    "# this makes the model faster\n",
    "w2v_model.init_sims(replace=True)"
   ]
  },
  {
   "cell_type": "markdown",
   "id": "501169de",
   "metadata": {},
   "source": [
    "Exploring some similarities"
   ]
  },
  {
   "cell_type": "code",
   "execution_count": 33,
   "id": "5dd6457f",
   "metadata": {},
   "outputs": [
    {
     "data": {
      "text/plain": [
       "[('feeble', 0.5923390984535217),\n",
       " ('bs', 0.5722087621688843),\n",
       " ('heelflip', 0.5570557117462158),\n",
       " ('backside_flip', 0.5489968657493591),\n",
       " ('bigspin', 0.5448331832885742),\n",
       " ('lipslide', 0.5099586844444275),\n",
       " ('nollie', 0.507274866104126),\n",
       " ('impossible', 0.5066455602645874),\n",
       " ('lip', 0.5061272978782654),\n",
       " ('frontside_flip', 0.5014005899429321)]"
      ]
     },
     "execution_count": 33,
     "metadata": {},
     "output_type": "execute_result"
    }
   ],
   "source": [
    "w2v_model.wv.most_similar(positive=['kickflip'])"
   ]
  },
  {
   "cell_type": "code",
   "execution_count": 34,
   "id": "e7e1450f",
   "metadata": {
    "scrolled": true
   },
   "outputs": [
    {
     "data": {
      "text/plain": [
       "[('prod', 0.45301878452301025),\n",
       " ('mo', 0.41502946615219116),\n",
       " ('girl', 0.4002001881599426),\n",
       " ('p_rod', 0.3871816098690033),\n",
       " ('carroll', 0.38261133432388306),\n",
       " ('royal', 0.38097161054611206),\n",
       " ('lakai', 0.3761560320854187),\n",
       " ('steve_berra', 0.3705348074436188),\n",
       " ('howard', 0.34127727150917053),\n",
       " ('olsen', 0.33771198987960815)]"
      ]
     },
     "execution_count": 34,
     "metadata": {},
     "output_type": "execute_result"
    }
   ],
   "source": [
    "w2v_model.wv.most_similar(positive=['koston'])"
   ]
  },
  {
   "cell_type": "markdown",
   "id": "4bdfcd7b",
   "metadata": {},
   "source": [
    "### Some Exploration of compositionality"
   ]
  },
  {
   "cell_type": "markdown",
   "id": "2e22a131",
   "metadata": {},
   "source": [
    "Skateboarding tricks are extremely compositional, we want to test this compositionality with embeddings"
   ]
  },
  {
   "cell_type": "code",
   "execution_count": 54,
   "id": "25732eeb",
   "metadata": {},
   "outputs": [
    {
     "data": {
      "text/plain": [
       "[('feeble', 0.7287865877151489),\n",
       " ('shove', 0.6953673958778381),\n",
       " ('heelflip', 0.6815487146377563)]"
      ]
     },
     "execution_count": 54,
     "metadata": {},
     "output_type": "execute_result"
    }
   ],
   "source": [
    "w2v_model.wv.most_similar(positive=['kickflip','shuv'], topn = 3)"
   ]
  },
  {
   "cell_type": "code",
   "execution_count": 53,
   "id": "dd4b54d2",
   "metadata": {
    "scrolled": true
   },
   "outputs": [
    {
     "data": {
      "text/plain": [
       "[('feeble', 0.6855462789535522),\n",
       " ('backside_flip', 0.6569441556930542),\n",
       " ('lipslide', 0.6270437240600586),\n",
       " ('heelflip', 0.6122676134109497),\n",
       " ('bigspin', 0.6024536490440369),\n",
       " ('fs', 0.5936436057090759),\n",
       " ('nollie', 0.5813784599304199),\n",
       " ('noseblunt', 0.5777338743209839),\n",
       " ('frontside_flip', 0.5548082590103149),\n",
       " ('impossible', 0.5522105097770691)]"
      ]
     },
     "execution_count": 53,
     "metadata": {},
     "output_type": "execute_result"
    }
   ],
   "source": [
    "w2v_model.wv.most_similar(positive=['bs', 'kickflip'])"
   ]
  },
  {
   "cell_type": "code",
   "execution_count": 58,
   "id": "4c97038f",
   "metadata": {
    "scrolled": true
   },
   "outputs": [
    {
     "data": {
      "text/plain": [
       "[('feeble', 0.6916360855102539),\n",
       " ('shove', 0.6608591675758362),\n",
       " ('bigspin', 0.6595133543014526),\n",
       " ('shuv', 0.6578512191772461),\n",
       " ('fs_flip', 0.6552944779396057),\n",
       " ('nollie_heel', 0.6315443515777588),\n",
       " ('noseblunt', 0.6219106912612915),\n",
       " ('lipslide', 0.6211074590682983),\n",
       " ('backside', 0.6194726228713989),\n",
       " ('backside_flip', 0.6161487102508545)]"
      ]
     },
     "execution_count": 58,
     "metadata": {},
     "output_type": "execute_result"
    }
   ],
   "source": [
    "w2v_model.wv.most_similar(positive=['nollie', 'heelflip'])"
   ]
  },
  {
   "cell_type": "code",
   "execution_count": 59,
   "id": "44335cb6",
   "metadata": {},
   "outputs": [],
   "source": [
    "# Okay, it looks like every trick is like a feeble according to this..."
   ]
  },
  {
   "cell_type": "markdown",
   "id": "826fd53f",
   "metadata": {},
   "source": [
    "### Heirarchical Clustering"
   ]
  },
  {
   "cell_type": "code",
   "execution_count": 60,
   "id": "42ef9837",
   "metadata": {},
   "outputs": [],
   "source": [
    "# we need to simplify the vectors"
   ]
  },
  {
   "cell_type": "code",
   "execution_count": 61,
   "id": "2600c3ef",
   "metadata": {},
   "outputs": [
    {
     "data": {
      "text/plain": [
       "array([ 0.07608389,  0.06502488, -0.18112516, -0.12473368, -0.05478258,\n",
       "       -0.07690267, -0.0588504 , -0.12201213, -0.0998102 ,  0.0487752 ,\n",
       "        0.03079643,  0.06846558, -0.12397813, -0.06450231,  0.03381518,\n",
       "        0.03064473,  0.16900869, -0.18986052,  0.07723386,  0.0435017 ,\n",
       "       -0.05307724, -0.03804624,  0.09561599,  0.08159647,  0.0280818 ,\n",
       "        0.02750929,  0.01929267,  0.00387385,  0.01837635, -0.00693224,\n",
       "        0.11586726, -0.02235951,  0.06970125,  0.10034583, -0.0574936 ,\n",
       "        0.17101446, -0.06375187, -0.1744683 , -0.11409894, -0.03705648,\n",
       "       -0.10324647, -0.09889305, -0.04213986,  0.01740503, -0.04893647,\n",
       "        0.04208507,  0.16860636, -0.22726618, -0.08250982, -0.06413285,\n",
       "       -0.22441846,  0.08093856,  0.00293134,  0.26249385,  0.05330911,\n",
       "       -0.00993857, -0.09960976, -0.17076655,  0.03900444, -0.21984605,\n",
       "       -0.01401224,  0.07325214,  0.02853548,  0.11870227,  0.04714064,\n",
       "       -0.05029522, -0.01513831, -0.00836184,  0.01680171, -0.00902733,\n",
       "        0.00316168, -0.06168446,  0.03459688, -0.00663198, -0.05528188,\n",
       "        0.03997467, -0.11805744,  0.06173988,  0.07597335,  0.00974303,\n",
       "       -0.11102437,  0.0642931 , -0.15866622, -0.13039714,  0.29734528,\n",
       "        0.01316994,  0.12011025,  0.05868785, -0.05046504, -0.05238063,\n",
       "       -0.12409852,  0.02669139,  0.13927723, -0.11490596,  0.00166962,\n",
       "       -0.08639431,  0.07614595,  0.20127201, -0.04614668, -0.00305788],\n",
       "      dtype=float32)"
      ]
     },
     "execution_count": 61,
     "metadata": {},
     "output_type": "execute_result"
    }
   ],
   "source": [
    "w2v_model.wv['post']"
   ]
  },
  {
   "cell_type": "code",
   "execution_count": 62,
   "id": "3f883ac8",
   "metadata": {},
   "outputs": [
    {
     "data": {
      "text/plain": [
       "{'originally_post': 0,\n",
       " 'like': 1,\n",
       " 'new': 2,\n",
       " 'skate': 3,\n",
       " 'think': 4,\n",
       " 'good': 5,\n",
       " 'video': 6,\n",
       " 's': 7,\n",
       " 'pro': 8,\n",
       " 'not': 9,\n",
       " 'go': 10,\n",
       " 'know': 11,\n",
       " 'get': 12,\n",
       " 'shoe': 13,\n",
       " 'fuck': 14,\n",
       " 'skateboard': 15,\n",
       " 'team': 16,\n",
       " 'sick': 17,\n",
       " 'look': 18,\n",
       " 'shit': 19,\n",
       " 'company': 20,\n",
       " 'yeah': 21,\n",
       " 'say': 22,\n",
       " 'come': 23,\n",
       " 'skater': 24,\n",
       " 'people': 25,\n",
       " 'guy': 26,\n",
       " 'see': 27,\n",
       " 'board': 28,\n",
       " 'deck': 29,\n",
       " 'm': 30,\n",
       " 'pretty': 31,\n",
       " 'time': 32,\n",
       " 'want': 33,\n",
       " 'thing': 34,\n",
       " 'dude': 35,\n",
       " 'com': 36,\n",
       " 'well': 37,\n",
       " 'year': 38,\n",
       " 'post': 39,\n",
       " 'way': 40,\n",
       " 'go_to': 41,\n",
       " 'buy': 42,\n",
       " 'news': 43,\n",
       " 'right': 44,\n",
       " 'hear': 45,\n",
       " 'haha': 46,\n",
       " 'watch': 47,\n",
       " 'http_www': 48,\n",
       " 'plan_b': 49,\n",
       " 'element': 50,\n",
       " 'try': 51,\n",
       " 'baker': 52,\n",
       " 'dc': 53,\n",
       " 'kid': 54,\n",
       " 'love': 55,\n",
       " 'mean': 56,\n",
       " 'trick': 57,\n",
       " 'big': 58,\n",
       " 'start': 59,\n",
       " \"'\": 60,\n",
       " 'actually': 61,\n",
       " 'bad': 62,\n",
       " 'nike': 63,\n",
       " 'leave': 64,\n",
       " 'probably': 65,\n",
       " 'lol': 66,\n",
       " 'cool': 67,\n",
       " 'day': 68,\n",
       " 'hope': 69,\n",
       " 'flip': 70,\n",
       " 'fucking': 71,\n",
       " 'man': 72,\n",
       " 'make': 73,\n",
       " 'suck': 74,\n",
       " 'hate': 75,\n",
       " 'real': 76,\n",
       " 'thread': 77,\n",
       " 'need': 78,\n",
       " 'maybe': 79,\n",
       " 'sheckler': 80,\n",
       " 'happen': 81,\n",
       " 'sure': 82,\n",
       " 'wear': 83,\n",
       " 'd': 84,\n",
       " 'sponsor': 85,\n",
       " 'damn': 86,\n",
       " 'old': 87,\n",
       " 'interview': 88,\n",
       " 'ride': 89,\n",
       " 'find': 90,\n",
       " 'stuff': 91,\n",
       " 'guess': 92,\n",
       " 'es': 93,\n",
       " 'fall': 94,\n",
       " 'skating': 95,\n",
       " 'transworld': 96,\n",
       " 'care': 97,\n",
       " 'oh': 98,\n",
       " 'hell': 99,\n",
       " 'win': 100,\n",
       " 'vid': 101,\n",
       " 'true': 102,\n",
       " 'money': 103,\n",
       " 'brand': 104,\n",
       " 'great': 105,\n",
       " 'emerica': 106,\n",
       " 'zero': 107,\n",
       " 'long': 108,\n",
       " 'youtube': 109,\n",
       " 'style': 110,\n",
       " 'lot': 111,\n",
       " 'rider': 112,\n",
       " 'talk': 113,\n",
       " 'wait': 114,\n",
       " 'work': 115,\n",
       " 'lakai': 116,\n",
       " 'site': 117,\n",
       " 'awesome': 118,\n",
       " 'van': 119,\n",
       " 'rip': 120,\n",
       " 'friend': 121,\n",
       " 'read': 122,\n",
       " 'http': 123,\n",
       " 'gay': 124,\n",
       " 'yes': 125,\n",
       " 'nice': 126,\n",
       " 'feel': 127,\n",
       " 'shop': 128,\n",
       " 'game': 129,\n",
       " 'deserve': 130,\n",
       " 'fit': 131,\n",
       " 'sell': 132,\n",
       " 'tell': 133,\n",
       " 'yea': 134,\n",
       " 'koston': 135,\n",
       " 'park': 136,\n",
       " 'hard': 137,\n",
       " 'wow': 138,\n",
       " 'ad': 139,\n",
       " 'girl': 140,\n",
       " 'kinda': 141,\n",
       " 'call': 142,\n",
       " 'life': 143,\n",
       " 'let': 144,\n",
       " 'switch': 145,\n",
       " 'live': 146,\n",
       " 'thank': 147,\n",
       " 'supra': 148,\n",
       " 'truck': 149,\n",
       " 'remember': 150,\n",
       " 'deathwish': 151,\n",
       " 'spot': 152,\n",
       " 'chris_cole': 153,\n",
       " 'kill': 154,\n",
       " 'footage': 155,\n",
       " 'amazing': 156,\n",
       " 'take': 157,\n",
       " 'ass': 158,\n",
       " 'website': 159,\n",
       " 'part': 160,\n",
       " 'bam': 161,\n",
       " 'little': 162,\n",
       " 'thrasher': 163,\n",
       " 'end': 164,\n",
       " 'flow': 165,\n",
       " 'popwar': 166,\n",
       " 'wtf': 167,\n",
       " 'contest': 168,\n",
       " 'soon': 169,\n",
       " 'u': 170,\n",
       " 'mike_mo': 171,\n",
       " 'shirt': 172,\n",
       " 'world': 173,\n",
       " 'die': 174,\n",
       " 'el_toro': 175,\n",
       " 'free': 176,\n",
       " 'sorry': 177,\n",
       " 'etnie': 178,\n",
       " 'ryan_sheckler': 179,\n",
       " 'sound': 180,\n",
       " 'super': 181,\n",
       " 'drop': 182,\n",
       " 'crazy': 183,\n",
       " 'stupid': 184,\n",
       " 'wonder': 185,\n",
       " 'rumor': 186,\n",
       " 'alot': 187,\n",
       " 'wrong': 188,\n",
       " 'cause': 189,\n",
       " 'adida': 190,\n",
       " 'change': 191,\n",
       " 'pro_model': 192,\n",
       " 'wheel': 193,\n",
       " 'check': 194,\n",
       " 'edit': 195,\n",
       " 'berric': 196,\n",
       " 'different': 197,\n",
       " 'funny': 198,\n",
       " 'street': 199,\n",
       " 'reason': 200,\n",
       " 'mystery': 201,\n",
       " 'product': 202,\n",
       " 'line': 203,\n",
       " 'industry': 204,\n",
       " 'fully_flare': 205,\n",
       " 'month': 206,\n",
       " 'jereme_roger': 207,\n",
       " 'foundation': 208,\n",
       " 'p_rod': 209,\n",
       " 'agree': 210,\n",
       " 'nike_sb': 211,\n",
       " 'point': 212,\n",
       " 'idea': 213,\n",
       " 'set': 214,\n",
       " 'nyjah': 215,\n",
       " 'support': 216,\n",
       " 'give': 217,\n",
       " 'kind': 218,\n",
       " 'stop': 219,\n",
       " 'ccs': 220,\n",
       " 'dvs': 221,\n",
       " 'stay_gold': 222,\n",
       " 'favorite': 223,\n",
       " 'dtj': 224,\n",
       " 'habitat': 225,\n",
       " 'kickflip': 226,\n",
       " 'dgk': 227,\n",
       " 'enjoi': 228,\n",
       " 'cover': 229,\n",
       " 'help': 230,\n",
       " 'believe': 231,\n",
       " 'fallen': 232,\n",
       " 'cole': 233,\n",
       " 'hype': 234,\n",
       " 'finally': 235,\n",
       " 'link': 236,\n",
       " 'got': 237,\n",
       " 'osiris': 238,\n",
       " 'ollie': 239,\n",
       " 'release': 240,\n",
       " 'today': 241,\n",
       " 'anymore': 242,\n",
       " 'seriously': 243,\n",
       " 'stoke': 244,\n",
       " 'run': 245,\n",
       " 'wanna': 246,\n",
       " 'kick': 247,\n",
       " 'black': 248,\n",
       " 'break': 249,\n",
       " 'skateboarder': 250,\n",
       " 'high': 251,\n",
       " 'film': 252,\n",
       " 'huge': 253,\n",
       " 'pay': 254,\n",
       " 'jerry_hsu': 255,\n",
       " 'picture': 256,\n",
       " 'ask': 257,\n",
       " 'definitely': 258,\n",
       " 'ago': 259,\n",
       " 'oooooooooooooooooooooooooooooooooooooooooooooooooo_oooooooooooooooooooooooooooooooooooooooooooooooooo': 260,\n",
       " 'pair': 261,\n",
       " 'use': 262,\n",
       " 'promo': 263,\n",
       " 'wish': 264,\n",
       " 'reynold': 265,\n",
       " 'official': 266,\n",
       " 'opinion': 267,\n",
       " 'tour': 268,\n",
       " 'weird': 269,\n",
       " 'one': 270,\n",
       " 'footy': 271,\n",
       " 'graphic': 272,\n",
       " 'converse': 273,\n",
       " 'adio': 274,\n",
       " 'fun': 275,\n",
       " 'far': 276,\n",
       " 'business': 277,\n",
       " 'street_league': 278,\n",
       " 'doubt': 279,\n",
       " 'trailer': 280,\n",
       " 'tk': 281,\n",
       " 'lame': 282,\n",
       " 'malto': 283,\n",
       " 'birdhouse': 284,\n",
       " 'x_game': 285,\n",
       " 've': 286,\n",
       " 'own': 287,\n",
       " 'globe': 288,\n",
       " 'place': 289,\n",
       " 'hopefully': 290,\n",
       " 'jimmy_carlin': 291,\n",
       " 'footwear': 292,\n",
       " 'dead': 293,\n",
       " 'week': 294,\n",
       " 'stair': 295,\n",
       " 'tony_hawk': 296,\n",
       " 'insane': 297,\n",
       " 'person': 298,\n",
       " 'sweet': 299,\n",
       " 'turn': 300,\n",
       " 'second': 301,\n",
       " 'n': 302,\n",
       " 'rail': 303,\n",
       " 'word': 304,\n",
       " 'pop': 305,\n",
       " 'proof': 306,\n",
       " 'joke': 307,\n",
       " 'th': 308,\n",
       " 'close': 309,\n",
       " 'ok': 310,\n",
       " 'away': 311,\n",
       " 'etc': 312,\n",
       " 'x': 313,\n",
       " 'show': 314,\n",
       " 'plus': 315,\n",
       " 'pick': 316,\n",
       " 'ill': 317,\n",
       " 'skatepark': 318,\n",
       " 'bit': 319,\n",
       " 'tight': 320,\n",
       " 'pretty_sure': 321,\n",
       " 'order': 322,\n",
       " 'play': 323,\n",
       " 'lose': 324,\n",
       " 'lizard_king': 325,\n",
       " 'question': 326,\n",
       " 'b': 327,\n",
       " 'ride_sky': 328,\n",
       " 'kotr': 329,\n",
       " 'hahaha': 330,\n",
       " 'city': 331,\n",
       " 'quit': 332,\n",
       " 'turn_pro': 333,\n",
       " 'page': 334,\n",
       " 't': 335,\n",
       " 'movie': 336,\n",
       " 'matter': 337,\n",
       " 'design': 338,\n",
       " 'idk': 339,\n",
       " 'minute': 340,\n",
       " 'forget': 341,\n",
       " 'corey_duffel': 342,\n",
       " 'chocolate': 343,\n",
       " 'p': 344,\n",
       " 'welcome': 345,\n",
       " 'shane': 346,\n",
       " 'honestly': 347,\n",
       " 'stereo': 348,\n",
       " 'clothing': 349,\n",
       " 'local': 350,\n",
       " 'photo': 351,\n",
       " 'ipath': 352,\n",
       " 'o': 353,\n",
       " 'fact': 354,\n",
       " 'stay': 355,\n",
       " 'add': 356,\n",
       " 'pic': 357,\n",
       " 'ya': 358,\n",
       " 'bet': 359,\n",
       " 'blind': 360,\n",
       " 'youtube_com': 361,\n",
       " 'scoff': 362,\n",
       " 'roger': 363,\n",
       " 'officially': 364,\n",
       " 'understand': 365,\n",
       " 'article': 366,\n",
       " 'hand': 367,\n",
       " 'bone': 368,\n",
       " 'small': 369,\n",
       " 'rob': 370,\n",
       " 'late': 371,\n",
       " 'pj_ladd': 372,\n",
       " 'soty': 373,\n",
       " 'foot': 374,\n",
       " 'ali_boulala': 375,\n",
       " 'toy_machine': 376,\n",
       " 'will': 377,\n",
       " 'song': 378,\n",
       " 'active': 379,\n",
       " 'slash': 380,\n",
       " 'powell': 381,\n",
       " 'anyways': 382,\n",
       " 'ams': 383,\n",
       " 'shape': 384,\n",
       " 'torey_pudwill': 385,\n",
       " 'fan': 386,\n",
       " 'exactly': 387,\n",
       " 'fuckin': 388,\n",
       " 'low': 389,\n",
       " 'watch_v': 390,\n",
       " 'dumb': 391,\n",
       " 'bitch': 392,\n",
       " 'idiot': 393,\n",
       " 'list': 394,\n",
       " 'online': 395,\n",
       " 'zoo_york': 396,\n",
       " 'announce': 397,\n",
       " 'vs': 398,\n",
       " 'not_wait': 399,\n",
       " 'have': 400,\n",
       " 'mike': 401,\n",
       " 'altamont': 402,\n",
       " 'issue': 403,\n",
       " 'gap': 404,\n",
       " 'expect': 405,\n",
       " 'store': 406,\n",
       " 'con': 407,\n",
       " 'suppose': 408,\n",
       " 'unknown_soldier': 409,\n",
       " 'cuz': 410,\n",
       " 'f': 411,\n",
       " 'premiere': 412,\n",
       " 'quality': 413,\n",
       " 'bs': 414,\n",
       " 'e': 415,\n",
       " 'mind': 416,\n",
       " 'r': 417,\n",
       " 'face': 418,\n",
       " 'g': 419,\n",
       " 'rad': 420,\n",
       " 'bunch': 421,\n",
       " 'land': 422,\n",
       " 'mike_v': 423,\n",
       " 'year_ago': 424,\n",
       " 'winner': 425,\n",
       " 'miss': 426,\n",
       " 'fast': 427,\n",
       " 'music': 428,\n",
       " 'ryan': 429,\n",
       " 'cup': 430,\n",
       " 'course': 431,\n",
       " 'arto': 432,\n",
       " 'respect': 433,\n",
       " 'head': 434,\n",
       " 'half': 435,\n",
       " 'magazine': 436,\n",
       " 'distribution': 437,\n",
       " 'throw': 438,\n",
       " 'god': 439,\n",
       " 'hey': 440,\n",
       " 'bastien': 441,\n",
       " 'shitty': 442,\n",
       " 'obviously': 443,\n",
       " 'em': 444,\n",
       " 'send': 445,\n",
       " 'indy': 446,\n",
       " 'dick': 447,\n",
       " 'summer': 448,\n",
       " 'lace': 449,\n",
       " 'meet': 450,\n",
       " 'dekline': 451,\n",
       " 'fake': 452,\n",
       " 'notice': 453,\n",
       " 'slap': 454,\n",
       " 'wallenberg': 455,\n",
       " 'tv': 456,\n",
       " 'young': 457,\n",
       " 'sk': 458,\n",
       " 'jamie_thomas': 459,\n",
       " 'dvd': 460,\n",
       " 'lutzka': 461,\n",
       " 'sk_mafia': 462,\n",
       " 'commercial': 463,\n",
       " 'html': 464,\n",
       " 'realize': 465,\n",
       " 'handrail': 466,\n",
       " 'confirm': 467,\n",
       " 'blow': 468,\n",
       " 'basically': 469,\n",
       " 'legit': 470,\n",
       " 'sale': 471,\n",
       " 'blank': 472,\n",
       " 'info': 473,\n",
       " 'holy_shit': 474,\n",
       " 'mag': 475,\n",
       " 'couple': 476,\n",
       " 'danny': 477,\n",
       " 'able': 478,\n",
       " 'circa': 479,\n",
       " 'interesting': 480,\n",
       " 'hit': 481,\n",
       " 'update': 482,\n",
       " 'easy': 483,\n",
       " 'model': 484,\n",
       " 'old_news': 485,\n",
       " 'muska': 486,\n",
       " 'tho': 487,\n",
       " 'year_old': 488,\n",
       " 'beat': 489,\n",
       " 'chris': 490,\n",
       " 'totally': 491,\n",
       " 'especially': 492,\n",
       " 'mad': 493,\n",
       " 'tre': 494,\n",
       " 'ali': 495,\n",
       " 'sad': 496,\n",
       " 'instead': 497,\n",
       " 'clip': 498,\n",
       " 'baker_deathwish': 499,\n",
       " 'skateshop': 500,\n",
       " 'rock': 501,\n",
       " 'nick': 502,\n",
       " 'sb': 503,\n",
       " 'venture': 504,\n",
       " 'shane_cross': 505,\n",
       " 'deal': 506,\n",
       " 'berra': 507,\n",
       " 'alien_workshop': 508,\n",
       " 'dope': 509,\n",
       " 'apparently': 510,\n",
       " 'stick': 511,\n",
       " 'type': 512,\n",
       " 'ender': 513,\n",
       " 'nyjah_huston': 514,\n",
       " 'image': 515,\n",
       " 'nollie': 516,\n",
       " 'demo': 517,\n",
       " 'early': 518,\n",
       " 'put': 519,\n",
       " 'shoe_sponsor': 520,\n",
       " 'bring': 521,\n",
       " 'move': 522,\n",
       " 'chill': 523,\n",
       " 'consider': 524,\n",
       " 'likely': 525,\n",
       " 'sean_malto': 526,\n",
       " 'fakie': 527,\n",
       " 'completely': 528,\n",
       " 'story': 529,\n",
       " 'regular': 530,\n",
       " 'retire': 531,\n",
       " 'name': 532,\n",
       " 'school': 533,\n",
       " 'darkstar': 534,\n",
       " 'to': 535,\n",
       " 'happy': 536,\n",
       " 'download': 537,\n",
       " 'pant': 538,\n",
       " 'cheap': 539,\n",
       " 'gsosa': 540,\n",
       " 'jamie': 541,\n",
       " 'ledge': 542,\n",
       " 'tws': 543,\n",
       " 'section': 544,\n",
       " 'coverage': 545,\n",
       " 'grip': 546,\n",
       " 'perfect': 547,\n",
       " 'wood': 548,\n",
       " 'vert': 549,\n",
       " 'danny_way': 550,\n",
       " 'join': 551,\n",
       " 'house': 552,\n",
       " 'w': 553,\n",
       " 'spitfire': 554,\n",
       " 'price': 555,\n",
       " 'rob_dyrdek': 556,\n",
       " 'lil_wayne': 557,\n",
       " 'split': 558,\n",
       " 'pull': 559,\n",
       " 'sign': 560,\n",
       " 'imo': 561,\n",
       " 'kr_w': 562,\n",
       " 'world_industry': 563,\n",
       " 'personally': 564,\n",
       " 'home': 565,\n",
       " 'random': 566,\n",
       " 'piss': 567,\n",
       " 'grind': 568,\n",
       " 'yo': 569,\n",
       " 'long_time': 570,\n",
       " 'k': 571,\n",
       " 'getting': 572,\n",
       " 'white': 573,\n",
       " 'fs': 574,\n",
       " 'hold': 575,\n",
       " 'possible': 576,\n",
       " 'vox': 577,\n",
       " 'recently': 578,\n",
       " 'antwuan': 579,\n",
       " 'future': 580,\n",
       " 'nah': 581,\n",
       " 'rest': 582,\n",
       " 'bro': 583,\n",
       " 'invasion': 584,\n",
       " 'cut': 585,\n",
       " 'switch_flip': 586,\n",
       " 'will_not': 587,\n",
       " 'haslam': 588,\n",
       " 'open': 589,\n",
       " 'age': 590,\n",
       " 'keep': 591,\n",
       " 'maloof_money': 592,\n",
       " 'logo': 593,\n",
       " 'kevo': 594,\n",
       " 'enjoy': 595,\n",
       " 'jump': 596,\n",
       " 'glad': 597,\n",
       " 'pretty_cool': 598,\n",
       " 'mention': 599,\n",
       " 'date': 600,\n",
       " 'trapasso': 601,\n",
       " 'original': 602,\n",
       " 'figure': 603,\n",
       " 'theeve': 604,\n",
       " 'surprised': 605,\n",
       " 'stevie_williams': 606,\n",
       " 'alex': 607,\n",
       " 'internet': 608,\n",
       " 'project': 609,\n",
       " 'death': 610,\n",
       " 'smith': 611,\n",
       " 'local_shop': 612,\n",
       " 'laugh': 613,\n",
       " 'omg': 614,\n",
       " 'forum': 615,\n",
       " 'duffel': 616,\n",
       " 'shut': 617,\n",
       " 'chaz_ortiz': 618,\n",
       " 'thunder': 619,\n",
       " 'rock_adio': 620,\n",
       " 'member': 621,\n",
       " 'brian_wenne': 622,\n",
       " 'grow': 623,\n",
       " 'mikey_taylor': 624,\n",
       " 'lie': 625,\n",
       " 'co': 626,\n",
       " 'build': 627,\n",
       " 'stand': 628,\n",
       " 'fine': 629,\n",
       " 'leo': 630,\n",
       " 'nick_trapasso': 631,\n",
       " 'bullshit': 632,\n",
       " 'ea_skate': 633,\n",
       " 'rap': 634,\n",
       " 'dad': 635,\n",
       " 'thrasher_cover': 636,\n",
       " 'volcom': 637,\n",
       " 'tech': 638,\n",
       " 'possibly': 639,\n",
       " 'bryan_herman': 640,\n",
       " 'herman': 641,\n",
       " 'tony': 642,\n",
       " 'later': 643,\n",
       " 'act': 644,\n",
       " 'mark': 645,\n",
       " 'creature': 646,\n",
       " 'crimson': 647,\n",
       " 'chance': 648,\n",
       " 'push': 649,\n",
       " 'alright': 650,\n",
       " 'straight': 651,\n",
       " 'vote': 652,\n",
       " 'appleyard': 653,\n",
       " 'matt': 654,\n",
       " 'skate_mental': 655,\n",
       " 'base': 656,\n",
       " 'short': 657,\n",
       " 'black_label': 658,\n",
       " 'alex_olson': 659,\n",
       " 'v': 660,\n",
       " 'jaw': 661,\n",
       " 'imagine': 662,\n",
       " 'brian': 663,\n",
       " 'job': 664,\n",
       " 'bachinsky': 665,\n",
       " 'problem': 666,\n",
       " 'fail': 667,\n",
       " 'josiah_gatlyn': 668,\n",
       " 'remind': 669,\n",
       " 'expedition': 670,\n",
       " 'hardflip': 671,\n",
       " 'comment': 672,\n",
       " 'silver': 673,\n",
       " 'dill': 674,\n",
       " 'epic': 675,\n",
       " 'prediction': 676,\n",
       " 'mark_appleyard': 677,\n",
       " 'grant_taylor': 678,\n",
       " 'choice': 679,\n",
       " 'maloof': 680,\n",
       " 'extremely_sorry': 681,\n",
       " 'include': 682,\n",
       " 'm_sure': 683,\n",
       " 'bearing': 684,\n",
       " 'retarded': 685,\n",
       " 'antwuan_dixon': 686,\n",
       " 'ragdoll': 687,\n",
       " 'sort': 688,\n",
       " 'hour': 689,\n",
       " 'nigga': 690,\n",
       " 'c': 691,\n",
       " 'sense': 692,\n",
       " 'street_dream': 693,\n",
       " 'greg_lutzka': 694,\n",
       " 'black_box': 695,\n",
       " 'roll': 696,\n",
       " 'colorway': 697,\n",
       " 'double': 698,\n",
       " 'aw': 699,\n",
       " 'tail': 700,\n",
       " 'daewon': 701,\n",
       " 'email': 702,\n",
       " 'plan': 703,\n",
       " 'sport': 704,\n",
       " 'compare': 705,\n",
       " 'nose': 706,\n",
       " 'independent': 707,\n",
       " 'scene': 708,\n",
       " 'heel': 709,\n",
       " 'cliche': 710,\n",
       " 'josh': 711,\n",
       " 'buck': 712,\n",
       " 'google': 713,\n",
       " 'excited': 714,\n",
       " 'r_p': 715,\n",
       " 'save': 716,\n",
       " 'rodney_mullen': 717,\n",
       " 'actual': 718,\n",
       " 'beast': 719,\n",
       " 'look_forward': 720,\n",
       " 'jail': 721,\n",
       " 'truth': 722,\n",
       " 'usually': 723,\n",
       " 'boulala': 724,\n",
       " 'krooke': 725,\n",
       " 'jereme': 726,\n",
       " 'myspace': 727,\n",
       " 'okay': 728,\n",
       " 'worth': 729,\n",
       " 'trooper': 730,\n",
       " 'gnarly': 731,\n",
       " 'hot': 732,\n",
       " 'result': 733,\n",
       " 'gilbert_crockett': 734,\n",
       " 'million': 735,\n",
       " 'title': 736,\n",
       " 'mtv': 737,\n",
       " 'dyrdek': 738,\n",
       " 'near': 739,\n",
       " 'case': 740,\n",
       " 'retard': 741,\n",
       " 'anybody': 742,\n",
       " 'red': 743,\n",
       " 'industry_news': 744,\n",
       " 'feature': 745,\n",
       " 'krew': 746,\n",
       " 'recent': 747,\n",
       " 'asr': 748,\n",
       " 'ellington': 749,\n",
       " 'thought': 750,\n",
       " 'china': 751,\n",
       " 'everybody': 752,\n",
       " 'toy': 753,\n",
       " 'batb': 754,\n",
       " 'nuts': 755,\n",
       " 'jean': 756,\n",
       " 'dollar': 757,\n",
       " 'night': 758,\n",
       " 'holy': 759,\n",
       " 'eric_koston': 760,\n",
       " 'catch': 761,\n",
       " 'flat': 762,\n",
       " 'garrett_hill': 763,\n",
       " 'event': 764,\n",
       " 'awhile': 765,\n",
       " 'decent': 766,\n",
       " 'explain': 767,\n",
       " 'current': 768,\n",
       " 'wenne': 769,\n",
       " 'david': 770,\n",
       " 'car': 771,\n",
       " 'boy': 772,\n",
       " 'aws': 773,\n",
       " 'famous': 774,\n",
       " 'popular': 775,\n",
       " 'eye': 776,\n",
       " 'clothe': 777,\n",
       " 'sk_er': 778,\n",
       " 'episode': 779,\n",
       " 'ship': 780,\n",
       " 'tattoo': 781,\n",
       " 'skateboard_city': 782,\n",
       " 'king': 783,\n",
       " 'crailtap': 784,\n",
       " 'destroy': 785,\n",
       " 'standard': 786,\n",
       " 'create': 787,\n",
       " 'dunno': 788,\n",
       " 'gallant': 789,\n",
       " 'king_road': 790,\n",
       " 'fully': 791,\n",
       " 'gold': 792,\n",
       " 'legend': 793,\n",
       " 'ton': 794,\n",
       " 'airspeed': 795,\n",
       " 'suffer_joy': 796,\n",
       " 'janoski': 797,\n",
       " 'asta': 798,\n",
       " 'rob_big': 799,\n",
       " 'www': 800,\n",
       " 'boring': 801,\n",
       " 'clothing_company': 802,\n",
       " 'll': 803,\n",
       " 'fourstar': 804,\n",
       " 'rippen_da': 805,\n",
       " 'color': 806,\n",
       " 'gravette': 807,\n",
       " 'mitten': 808,\n",
       " 'leo_romero': 809,\n",
       " 'dwindle': 810,\n",
       " 'rep': 811,\n",
       " 'ur': 812,\n",
       " 'pm': 813,\n",
       " 'spring': 814,\n",
       " 'apparel': 815,\n",
       " 'blood': 816,\n",
       " 'favorite_skater': 817,\n",
       " 'somebody': 818,\n",
       " 'ha': 819,\n",
       " 'force': 820,\n",
       " 'skill': 821,\n",
       " 'battle_berric': 822,\n",
       " 'drug': 823,\n",
       " 'lately': 824,\n",
       " 'poser': 825,\n",
       " 'camera': 826,\n",
       " 'hsu': 827,\n",
       " 'learn': 828,\n",
       " 't_shirt': 829,\n",
       " 'shake_junt': 830,\n",
       " 'entire': 831,\n",
       " 've_see': 832,\n",
       " 'follow': 833,\n",
       " 'bob': 834,\n",
       " 'family': 835,\n",
       " 'prod': 836,\n",
       " 'size': 837,\n",
       " 'ugly': 838,\n",
       " 'carlsbad': 839,\n",
       " 'month_ago': 840,\n",
       " 'ball': 841,\n",
       " 'stevie': 842,\n",
       " 'rowley': 843,\n",
       " 'mother': 844,\n",
       " 'gunna': 845,\n",
       " 'forever': 846,\n",
       " 'copy': 847,\n",
       " 'st': 848,\n",
       " 'andrew_reynold': 849,\n",
       " 'certain': 850,\n",
       " 'comeback': 851,\n",
       " 'busenitz': 852,\n",
       " 'market': 853,\n",
       " 'ridiculous': 854,\n",
       " 'bank': 855,\n",
       " 'career': 856,\n",
       " 'westgate': 857,\n",
       " 'guy_mariano': 858,\n",
       " 'colt_cannon': 859,\n",
       " 'blackbox': 860,\n",
       " 'walk': 861,\n",
       " 'brother': 862,\n",
       " 'cry': 863,\n",
       " 'final': 864,\n",
       " 'view': 865,\n",
       " 'clean': 866,\n",
       " 'speak': 867,\n",
       " 'shaun_white': 868,\n",
       " 'owner': 869,\n",
       " 'solid': 870,\n",
       " 'listen': 871,\n",
       " 'apple': 872,\n",
       " 'normal': 873,\n",
       " 'cory_kennedy': 874,\n",
       " 'tampa_pro': 875,\n",
       " \"epicly_later'd\": 876,\n",
       " 'freestyle': 877,\n",
       " 'sig': 878,\n",
       " 'soo': 879,\n",
       " 'round': 880,\n",
       " 'release_date': 881,\n",
       " 'mullen': 882,\n",
       " 'state': 883,\n",
       " 'blue': 884,\n",
       " 'shoot': 885,\n",
       " 'preview': 886,\n",
       " 'step': 887,\n",
       " 'fag': 888,\n",
       " 'facebook': 889,\n",
       " 'prove': 890,\n",
       " 'hubba': 891,\n",
       " 'posi': 892,\n",
       " 'bout': 893,\n",
       " 'jesus': 894,\n",
       " 'jimmy': 895,\n",
       " 'griptape': 896,\n",
       " 'hurt': 897,\n",
       " 'literally': 898,\n",
       " 'hook': 899,\n",
       " 'wallenburg': 900,\n",
       " 'alive': 901,\n",
       " 'l': 902,\n",
       " 'real_street': 903,\n",
       " 'ricta': 904,\n",
       " 'btw': 905,\n",
       " 'topic': 906,\n",
       " 'launch': 907,\n",
       " 'cost': 908,\n",
       " 'smoke': 909,\n",
       " 'decide': 910,\n",
       " 'search': 911,\n",
       " 'surprise': 912,\n",
       " 'offer': 913,\n",
       " 'carry': 914,\n",
       " 'sbc': 915,\n",
       " 'steve': 916,\n",
       " 'sooo': 917,\n",
       " 'technology': 918,\n",
       " 'forward': 919,\n",
       " 'air': 920,\n",
       " 'slave': 921,\n",
       " 'furby': 922,\n",
       " 'alien': 923,\n",
       " 'bigspin': 924,\n",
       " 'eh': 925,\n",
       " 'bs_flip': 926,\n",
       " 'com_messa': 927,\n",
       " 'zumiez': 928,\n",
       " 'not_war': 929,\n",
       " 'begin': 930,\n",
       " 'yesterday': 931,\n",
       " 'relate': 932,\n",
       " 'santa_cruz': 933,\n",
       " 'annoying': 934,\n",
       " 'ice_cream': 935,\n",
       " 'andrew_reynolds': 936,\n",
       " 'black_white': 937,\n",
       " 'york': 938,\n",
       " 'core': 939,\n",
       " 'number': 940,\n",
       " 'light': 941,\n",
       " 'spend': 942,\n",
       " 'php': 943,\n",
       " 'past': 944,\n",
       " 'premier': 945,\n",
       " 'braydon': 946,\n",
       " 'mega_ramp': 947,\n",
       " 'axion': 948,\n",
       " 'bueno': 949,\n",
       " 'hair': 950,\n",
       " 'teaser': 951,\n",
       " 'faggot': 952,\n",
       " 'andrew': 953,\n",
       " 'till': 954,\n",
       " 'terry_kennedy': 955,\n",
       " 'kenny': 956,\n",
       " 'c_rca': 957,\n",
       " 'level': 958,\n",
       " 'theotis': 959,\n",
       " 'carlin': 960,\n",
       " 'nuge': 961,\n",
       " 'sponser': 962,\n",
       " 'choose': 963,\n",
       " 'chris_haslam': 964,\n",
       " 'instagram': 965,\n",
       " 'area': 966,\n",
       " 'catalog': 967,\n",
       " 'kalis': 968,\n",
       " 'late_flip': 969,\n",
       " 'j': 970,\n",
       " 'difference': 971,\n",
       " 'rich': 972,\n",
       " 'come_soon': 973,\n",
       " 'figgy': 974,\n",
       " 'jim_greco': 975,\n",
       " 'olson': 976,\n",
       " 'focus': 977,\n",
       " 'homie': 978,\n",
       " 'silas_baxter': 979,\n",
       " 'town': 980,\n",
       " 'gonz': 981,\n",
       " 'gatorade': 982,\n",
       " 'square': 983,\n",
       " 'piece': 984,\n",
       " 'drunk': 985,\n",
       " 'source': 986,\n",
       " 'hang': 987,\n",
       " 'assume': 988,\n",
       " 'ground': 989,\n",
       " 'mj': 990,\n",
       " 'def': 991,\n",
       " 'yay': 992,\n",
       " 'major': 993,\n",
       " 'lil': 994,\n",
       " 'non': 995,\n",
       " 'bear': 996,\n",
       " 'krux': 997,\n",
       " 'billy_mark': 998,\n",
       " 'horrible': 999,\n",
       " ...}"
      ]
     },
     "execution_count": 62,
     "metadata": {},
     "output_type": "execute_result"
    }
   ],
   "source": [
    "w2v_model.wv.key_to_index"
   ]
  },
  {
   "cell_type": "code",
   "execution_count": 65,
   "id": "0cd6db14",
   "metadata": {},
   "outputs": [],
   "source": [
    "import nltk"
   ]
  },
  {
   "cell_type": "code",
   "execution_count": 66,
   "id": "8327d4dc",
   "metadata": {
    "scrolled": true
   },
   "outputs": [],
   "source": [
    "# union of formal + informal words\n",
    "std_english_words = set(nltk.corpus.brown.words()).union(set(nltk.corpus.nps_chat.words()))"
   ]
  },
  {
   "cell_type": "code",
   "execution_count": 67,
   "id": "507e1894",
   "metadata": {},
   "outputs": [],
   "source": [
    "# we need the vectors of just nouns\n",
    "# the w2v_model.wv.key_to_index gives us a dict of word to count, we will use this\n",
    "import nltk\n",
    "\n",
    "new_vectors = []\n",
    "new_labels = []\n",
    "for word, _ in w2v_model.wv.key_to_index.items():\n",
    "    # contextless pos tagging\n",
    "    w, tag = nltk.pos_tag([word], tagset='universal')[0]\n",
    "    if tag == 'NOUN' and word not in std_english_words:\n",
    "        new_labels.append(word)\n",
    "        new_vectors.append(w2v_model.wv[word]) #appending the embedding"
   ]
  },
  {
   "cell_type": "code",
   "execution_count": 68,
   "id": "85e44d11",
   "metadata": {
    "scrolled": true
   },
   "outputs": [
    {
     "data": {
      "text/plain": [
       "1429"
      ]
     },
     "execution_count": 68,
     "metadata": {},
     "output_type": "execute_result"
    }
   ],
   "source": [
    "len(new_vectors)"
   ]
  },
  {
   "cell_type": "code",
   "execution_count": 69,
   "id": "cf8dd7ca",
   "metadata": {},
   "outputs": [],
   "source": [
    "# this is still too many\n",
    "# will do k means to reduce it to 500\n",
    "# for now, silly way\n",
    "new_vectors = new_vectors[:250]\n",
    "new_labels = new_labels[:250]"
   ]
  },
  {
   "cell_type": "code",
   "execution_count": 71,
   "id": "8b4c1747",
   "metadata": {},
   "outputs": [
    {
     "data": {
      "image/png": "[encoded data removed]",
      "text/plain": [
       "<Figure size 2000x4000 with 1 Axes>"
      ]
     },
     "metadata": {},
     "output_type": "display_data"
    }
   ],
   "source": [
    "# base code citation (I modified it a bit)\n",
    "# https://stackoverflow.com/questions/41462711/python-calculate-hierarchical-clustering-of-word2vec-vectors-and-plot-the-resu\n",
    "\n",
    "from matplotlib import pyplot as plt\n",
    "from scipy.cluster.hierarchy import dendrogram, linkage\n",
    "\n",
    "# using cos dist\n",
    "l = linkage(new_vectors, method='complete', metric='cosine')\n",
    "\n",
    "# calculate full dendrogram\n",
    "plt.figure(figsize=(20, 40))\n",
    "plt.title('Hierarchical Clustering Dendrogram')\n",
    "plt.ylabel('word')\n",
    "plt.xlabel('distance')\n",
    "\n",
    "d = dendrogram(\n",
    "    l,\n",
    "    leaf_font_size=6.,  # font size for the x axis labels\n",
    "    orientation='left',\n",
    "    labels=new_labels\n",
    ")\n",
    "plt.show()"
   ]
  }
 ],
 "metadata": {
  "kernelspec": {
   "display_name": "Python 3 (ipykernel)",
   "language": "python",
   "name": "python3"
  },
  "language_info": {
   "codemirror_mode": {
    "name": "ipython",
    "version": 3
   },
   "file_extension": ".py",
   "mimetype": "text/x-python",
   "name": "python",
   "nbconvert_exporter": "python",
   "pygments_lexer": "ipython3",
   "version": "3.10.6"
  }
 },
 "nbformat": 4,
 "nbformat_minor": 5
}
